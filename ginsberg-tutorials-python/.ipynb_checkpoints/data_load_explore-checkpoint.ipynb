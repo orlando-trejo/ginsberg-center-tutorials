{
 "cells": [
  {
   "cell_type": "markdown",
   "metadata": {},
   "source": [
    "# Tutorial 1: Load and Explore a Dataset\n",
    "In this tutorial, we will be looking at the dataset from the book \"<a href=https://www.ericachenoweth.com/research/wcrw>Why Civil Reistance Works</a>.\" \n",
    "\n",
    "We will start by loading necessary python libraries and the data, which can be found in the linke above. \n",
    "\n",
    "## 1. Load libraries"
   ]
  },
  {
   "cell_type": "code",
   "execution_count": 37,
   "metadata": {},
   "outputs": [],
   "source": [
    "import numpy as np\n",
    "import pandas as pd\n",
    "import matplotlib.pyplot as plt\n",
    "%matplotlib inline"
   ]
  },
  {
   "cell_type": "markdown",
   "metadata": {},
   "source": [
    "## 2. Load data"
   ]
  },
  {
   "cell_type": "code",
   "execution_count": 2,
   "metadata": {},
   "outputs": [
    {
     "data": {
      "text/html": [
       "<div>\n",
       "<style scoped>\n",
       "    .dataframe tbody tr th:only-of-type {\n",
       "        vertical-align: middle;\n",
       "    }\n",
       "\n",
       "    .dataframe tbody tr th {\n",
       "        vertical-align: top;\n",
       "    }\n",
       "\n",
       "    .dataframe thead th {\n",
       "        text-align: right;\n",
       "    }\n",
       "</style>\n",
       "<table border=\"1\" class=\"dataframe\">\n",
       "  <thead>\n",
       "    <tr style=\"text-align: right;\">\n",
       "      <th></th>\n",
       "      <th>defect</th>\n",
       "      <th>outcome</th>\n",
       "      <th>peakmembership</th>\n",
       "      <th>eyear</th>\n",
       "      <th>byear</th>\n",
       "      <th>location</th>\n",
       "      <th>campaign</th>\n",
       "      <th>target</th>\n",
       "      <th>lccode</th>\n",
       "      <th>tccode</th>\n",
       "      <th>...</th>\n",
       "      <th>lmtnest</th>\n",
       "      <th>ef</th>\n",
       "      <th>loclpolity1</th>\n",
       "      <th>loclcap1</th>\n",
       "      <th>loclcap2</th>\n",
       "      <th>loclcap3</th>\n",
       "      <th>loclcap4</th>\n",
       "      <th>mempc</th>\n",
       "      <th>demdum</th>\n",
       "      <th>recur1</th>\n",
       "    </tr>\n",
       "  </thead>\n",
       "  <tbody>\n",
       "    <tr>\n",
       "      <th>0</th>\n",
       "      <td>1.0</td>\n",
       "      <td>5</td>\n",
       "      <td>50000.0</td>\n",
       "      <td>1959</td>\n",
       "      <td>1956</td>\n",
       "      <td>Cuba</td>\n",
       "      <td>Cuban Revolution</td>\n",
       "      <td>Batista regime</td>\n",
       "      <td>40.0</td>\n",
       "      <td>40.0</td>\n",
       "      <td>...</td>\n",
       "      <td>1.694107</td>\n",
       "      <td>0.2134</td>\n",
       "      <td>-9.0</td>\n",
       "      <td>0.0</td>\n",
       "      <td>1.0</td>\n",
       "      <td>0.0</td>\n",
       "      <td>0.0</td>\n",
       "      <td>1.226839</td>\n",
       "      <td>0.0</td>\n",
       "      <td>0.0</td>\n",
       "    </tr>\n",
       "    <tr>\n",
       "      <th>1</th>\n",
       "      <td>0.0</td>\n",
       "      <td>3</td>\n",
       "      <td>5000.0</td>\n",
       "      <td>1920</td>\n",
       "      <td>1918</td>\n",
       "      <td>Haiti</td>\n",
       "      <td>Caco Revolt</td>\n",
       "      <td>U.S. occupation</td>\n",
       "      <td>41.0</td>\n",
       "      <td>2.0</td>\n",
       "      <td>...</td>\n",
       "      <td>NaN</td>\n",
       "      <td>NaN</td>\n",
       "      <td>NaN</td>\n",
       "      <td>NaN</td>\n",
       "      <td>NaN</td>\n",
       "      <td>NaN</td>\n",
       "      <td>NaN</td>\n",
       "      <td>NaN</td>\n",
       "      <td>0.0</td>\n",
       "      <td>NaN</td>\n",
       "    </tr>\n",
       "    <tr>\n",
       "      <th>2</th>\n",
       "      <td>1.0</td>\n",
       "      <td>5</td>\n",
       "      <td>30000.0</td>\n",
       "      <td>1985</td>\n",
       "      <td>1985</td>\n",
       "      <td>Haiti</td>\n",
       "      <td></td>\n",
       "      <td>Jean Claude Duvalier</td>\n",
       "      <td>41.0</td>\n",
       "      <td>41.0</td>\n",
       "      <td>...</td>\n",
       "      <td>2.797281</td>\n",
       "      <td>0.0950</td>\n",
       "      <td>-9.0</td>\n",
       "      <td>1.0</td>\n",
       "      <td>0.0</td>\n",
       "      <td>0.0</td>\n",
       "      <td>0.0</td>\n",
       "      <td>1.200712</td>\n",
       "      <td>0.0</td>\n",
       "      <td>0.0</td>\n",
       "    </tr>\n",
       "    <tr>\n",
       "      <th>3</th>\n",
       "      <td>0.0</td>\n",
       "      <td>3</td>\n",
       "      <td>650.0</td>\n",
       "      <td>1924</td>\n",
       "      <td>1916</td>\n",
       "      <td>Dominican Republic</td>\n",
       "      <td>Dominican insurgency</td>\n",
       "      <td>U.S. occupation</td>\n",
       "      <td>42.0</td>\n",
       "      <td>2.0</td>\n",
       "      <td>...</td>\n",
       "      <td>NaN</td>\n",
       "      <td>NaN</td>\n",
       "      <td>NaN</td>\n",
       "      <td>1.0</td>\n",
       "      <td>0.0</td>\n",
       "      <td>0.0</td>\n",
       "      <td>0.0</td>\n",
       "      <td>NaN</td>\n",
       "      <td>0.0</td>\n",
       "      <td>NaN</td>\n",
       "    </tr>\n",
       "    <tr>\n",
       "      <th>4</th>\n",
       "      <td>1.0</td>\n",
       "      <td>3</td>\n",
       "      <td>NaN</td>\n",
       "      <td>1965</td>\n",
       "      <td>1965</td>\n",
       "      <td>Dominican Republic</td>\n",
       "      <td>leftists</td>\n",
       "      <td>Loyalist regime</td>\n",
       "      <td>42.0</td>\n",
       "      <td>42.0</td>\n",
       "      <td>...</td>\n",
       "      <td>2.856470</td>\n",
       "      <td>0.3868</td>\n",
       "      <td>0.0</td>\n",
       "      <td>1.0</td>\n",
       "      <td>0.0</td>\n",
       "      <td>0.0</td>\n",
       "      <td>0.0</td>\n",
       "      <td>NaN</td>\n",
       "      <td>0.0</td>\n",
       "      <td>0.0</td>\n",
       "    </tr>\n",
       "  </tbody>\n",
       "</table>\n",
       "<p>5 rows × 85 columns</p>\n",
       "</div>"
      ],
      "text/plain": [
       "   defect  outcome  peakmembership  eyear  byear            location  \\\n",
       "0     1.0        5         50000.0   1959   1956                Cuba   \n",
       "1     0.0        3          5000.0   1920   1918               Haiti   \n",
       "2     1.0        5         30000.0   1985   1985               Haiti   \n",
       "3     0.0        3           650.0   1924   1916  Dominican Republic   \n",
       "4     1.0        3             NaN   1965   1965  Dominican Republic   \n",
       "\n",
       "               campaign                target  lccode  tccode   ...    \\\n",
       "0      Cuban Revolution        Batista regime    40.0    40.0   ...     \n",
       "1           Caco Revolt       U.S. occupation    41.0     2.0   ...     \n",
       "2                        Jean Claude Duvalier    41.0    41.0   ...     \n",
       "3  Dominican insurgency       U.S. occupation    42.0     2.0   ...     \n",
       "4              leftists       Loyalist regime    42.0    42.0   ...     \n",
       "\n",
       "    lmtnest      ef  loclpolity1  loclcap1  loclcap2  loclcap3  loclcap4  \\\n",
       "0  1.694107  0.2134         -9.0       0.0       1.0       0.0       0.0   \n",
       "1       NaN     NaN          NaN       NaN       NaN       NaN       NaN   \n",
       "2  2.797281  0.0950         -9.0       1.0       0.0       0.0       0.0   \n",
       "3       NaN     NaN          NaN       1.0       0.0       0.0       0.0   \n",
       "4  2.856470  0.3868          0.0       1.0       0.0       0.0       0.0   \n",
       "\n",
       "      mempc  demdum  recur1  \n",
       "0  1.226839     0.0     0.0  \n",
       "1       NaN     0.0     NaN  \n",
       "2  1.200712     0.0     0.0  \n",
       "3       NaN     0.0     NaN  \n",
       "4       NaN     0.0     0.0  \n",
       "\n",
       "[5 rows x 85 columns]"
      ]
     },
     "execution_count": 2,
     "metadata": {},
     "output_type": "execute_result"
    }
   ],
   "source": [
    "data = pd.read_stata('data-replication-files/WCRWreplication.dta')\n",
    "data.head() # Check data loads properly"
   ]
  },
  {
   "cell_type": "code",
   "execution_count": 30,
   "metadata": {},
   "outputs": [
    {
     "name": "stdout",
     "output_type": "stream",
     "text": [
      "Index(['defect', 'outcome', 'peakmembership', 'eyear', 'byear', 'location',\n",
      "       'campaign', 'target', 'lccode', 'tccode', 'nonviol', 'viol', 'fselfdet',\n",
      "       'regchange', 'secession', 'other', 'success', 'limited', 'failure',\n",
      "       'ongoing', 'middleeast', 'americas', 'asia', 'fsu', 'europe', 'africa',\n",
      "       'lpolity', 'tpolity', 'lgovcap', 'tgovcap', 'regviol', 'violsim',\n",
      "       'extfor', 'statesup', 'regaid', 'sdirect', 'deltatpolity', 'deltatgdp',\n",
      "       'lduration', 'lmembers', 't1', 't2', 't3', 't4', 't5', 't6', 't7', 't8',\n",
      "       't9', 't10', 't11', 'cw', 'postcw', 'ixnNVmem', 'rgdppc',\n",
      "       'growthrgdppc', 'lupop', 'recur5', 'recur10', 'polityt10', 'polityt1',\n",
      "       'polityt5', 'politychanget10', 'politychanget1', 'politychanget5',\n",
      "       'politychanget0', 'authdum', 'deltatgovcap', 'memdum', 'lnpop',\n",
      "       'ixnNVpc', 'lpolity1', 'lcinc1', 'lgdppc', 'wars', 'lmtnest', 'ef',\n",
      "       'loclpolity1', 'loclcap1', 'loclcap2', 'loclcap3', 'loclcap4', 'mempc',\n",
      "       'demdum', 'recur1'],\n",
      "      dtype='object')\n"
     ]
    }
   ],
   "source": [
    "# Print the name of the columns\n",
    "print(data.columns)"
   ]
  },
  {
   "cell_type": "code",
   "execution_count": 33,
   "metadata": {},
   "outputs": [
    {
     "data": {
      "text/html": [
       "<div>\n",
       "<style scoped>\n",
       "    .dataframe tbody tr th:only-of-type {\n",
       "        vertical-align: middle;\n",
       "    }\n",
       "\n",
       "    .dataframe tbody tr th {\n",
       "        vertical-align: top;\n",
       "    }\n",
       "\n",
       "    .dataframe thead th {\n",
       "        text-align: right;\n",
       "    }\n",
       "</style>\n",
       "<table border=\"1\" class=\"dataframe\">\n",
       "  <thead>\n",
       "    <tr style=\"text-align: right;\">\n",
       "      <th></th>\n",
       "      <th>Variable_Name</th>\n",
       "      <th>Source</th>\n",
       "      <th>Variable_Description</th>\n",
       "    </tr>\n",
       "  </thead>\n",
       "  <tbody>\n",
       "    <tr>\n",
       "      <th>0</th>\n",
       "      <td>CAMPAIGN</td>\n",
       "      <td>Various encyclopedic entries; scholarly works;...</td>\n",
       "      <td>Name of campaign.</td>\n",
       "    </tr>\n",
       "    <tr>\n",
       "      <th>1</th>\n",
       "      <td>LOCATION</td>\n",
       "      <td>Various encyclopedic entries; scholarly works;...</td>\n",
       "      <td>Geographic base of campaign (country).</td>\n",
       "    </tr>\n",
       "    <tr>\n",
       "      <th>2</th>\n",
       "      <td>LCCODE</td>\n",
       "      <td>Correlates of War</td>\n",
       "      <td>Location country code.</td>\n",
       "    </tr>\n",
       "    <tr>\n",
       "      <th>3</th>\n",
       "      <td>BYEAR</td>\n",
       "      <td>Various encyclopedic entries; scholarly works;...</td>\n",
       "      <td>Year in which campaign begins.</td>\n",
       "    </tr>\n",
       "    <tr>\n",
       "      <th>4</th>\n",
       "      <td>EYEAR</td>\n",
       "      <td>Various encyclopedic entries; scholarly works;...</td>\n",
       "      <td>Year at which the campaign reaches its peak; i...</td>\n",
       "    </tr>\n",
       "  </tbody>\n",
       "</table>\n",
       "</div>"
      ],
      "text/plain": [
       "  Variable_Name                                             Source  \\\n",
       "0     CAMPAIGN   Various encyclopedic entries; scholarly works;...   \n",
       "1     LOCATION   Various encyclopedic entries; scholarly works;...   \n",
       "2       LCCODE                                  Correlates of War    \n",
       "3        BYEAR   Various encyclopedic entries; scholarly works;...   \n",
       "4        EYEAR   Various encyclopedic entries; scholarly works;...   \n",
       "\n",
       "                                Variable_Description  \n",
       "0                                 Name of campaign.   \n",
       "1            Geographic base of campaign (country).   \n",
       "2                            Location country code.   \n",
       "3                    Year in which campaign begins.   \n",
       "4  Year at which the campaign reaches its peak; i...  "
      ]
     },
     "execution_count": 33,
     "metadata": {},
     "output_type": "execute_result"
    }
   ],
   "source": [
    "# Load descriptions for each vriable (column)\n",
    "var_descriptors = pd.read_csv('data-replication-files/WCRW_variables_descriptions.csv')\n",
    "var_descriptors.head()"
   ]
  },
  {
   "cell_type": "code",
   "execution_count": 27,
   "metadata": {},
   "outputs": [],
   "source": [
    "# Create dictionary of variable descriptions\n",
    "dct_descriptors = {}\n",
    "for i in range(var_descriptors.shape[0]):\n",
    "    var_name = var_descriptors.Variable_Name[i].lower().strip()\n",
    "    var_dscp = var_descriptors.Variable_Description[i]\n",
    "    if var_name == 'ixnnvmem':\n",
    "        var_name = 'ixnNVmem'\n",
    "    elif var_name == 'ixnnvpc':\n",
    "        var_name = 'ixnNVpc'\n",
    "    dct_descriptors[var_name] = var_dscp\n",
    "    "
   ]
  },
  {
   "cell_type": "markdown",
   "metadata": {},
   "source": [
    "## 3. Explore data\n",
    "In this section, we will start exploring the data so we have an idea of what we are working with."
   ]
  },
  {
   "cell_type": "code",
   "execution_count": 13,
   "metadata": {},
   "outputs": [
    {
     "data": {
      "text/plain": [
       "(323, 85)"
      ]
     },
     "execution_count": 13,
     "metadata": {},
     "output_type": "execute_result"
    }
   ],
   "source": [
    "data.shape # Check the dimensions of the dataset"
   ]
  },
  {
   "cell_type": "code",
   "execution_count": 35,
   "metadata": {},
   "outputs": [
    {
     "name": "stdout",
     "output_type": "stream",
     "text": [
      "Outcomes are an Ordinal measure with result code. Success=5; Limited Success=4; Failure=3. \n"
     ]
    }
   ],
   "source": [
    "# Explore outcomes\n",
    "print('Outcomes are an {}'.format(dct_descriptors['outcome']))"
   ]
  },
  {
   "cell_type": "code",
   "execution_count": 52,
   "metadata": {},
   "outputs": [
    {
     "data": {
      "image/png": "[encoded data removed]",
      "text/plain": [
       "<Figure size 432x288 with 1 Axes>"
      ]
     },
     "metadata": {
      "needs_background": "light"
     },
     "output_type": "display_data"
    }
   ],
   "source": [
    "# Make bar plots of outcomes\n",
    "campaign_outcomes = data['outcome'].value_counts()\n",
    "campaign_outcomes.sort_values().plot(kind='barh')\n",
    "plt.xlabel('Number of Campaigns')\n",
    "plt.ylabel('Outcome')\n",
    "plt.title('{}'.format(dct_descriptors['outcome']))\n",
    "plt.show()"
   ]
  },
  {
   "cell_type": "code",
   "execution_count": 57,
   "metadata": {},
   "outputs": [
    {
     "name": "stdout",
     "output_type": "stream",
     "text": [
      "Defect is Dichotomous variables identifying whether the target’s security forces defected during the conflict. Does not include routine individual defections, but rather large-scale, systematic breakdowns on the execution of orders from the target regime. \n"
     ]
    }
   ],
   "source": [
    "# Explore defect\n",
    "print('Defect is {}'.format(dct_descriptors['defect']))"
   ]
  },
  {
   "cell_type": "code",
   "execution_count": 59,
   "metadata": {},
   "outputs": [
    {
     "data": {
      "text/plain": [
       "Text(0.5, 0, 'Defect')"
      ]
     },
     "execution_count": 59,
     "metadata": {},
     "output_type": "execute_result"
    },
    {
     "data": {
      "image/png": "[encoded data removed]",
      "text/plain": [
       "<Figure size 432x288 with 1 Axes>"
      ]
     },
     "metadata": {
      "needs_background": "light"
     },
     "output_type": "display_data"
    }
   ],
   "source": [
    "data.groupby(['defect','outcome']).size().unstack().plot(kind='bar', stacked=True)\n",
    "plt.title('Influence of target security forces defecting')\n",
    "plt.ylabel('Number of Campaings')\n",
    "plt.xlabel('Defect')"
   ]
  },
  {
   "cell_type": "code",
   "execution_count": null,
   "metadata": {},
   "outputs": [],
   "source": []
  }
 ],
 "metadata": {
  "kernelspec": {
   "display_name": "Python 3",
   "language": "python",
   "name": "python3"
  },
  "language_info": {
   "codemirror_mode": {
    "name": "ipython",
    "version": 3
   },
   "file_extension": ".py",
   "mimetype": "text/x-python",
   "name": "python",
   "nbconvert_exporter": "python",
   "pygments_lexer": "ipython3",
   "version": "3.7.3"
  }
 },
 "nbformat": 4,
 "nbformat_minor": 2
}
